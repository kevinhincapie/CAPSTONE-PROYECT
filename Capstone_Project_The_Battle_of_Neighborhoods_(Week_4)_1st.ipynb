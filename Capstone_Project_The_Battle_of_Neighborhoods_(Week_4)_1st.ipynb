{
  "nbformat": 4,
  "nbformat_minor": 0,
  "metadata": {
    "colab": {
      "name": "Capstone Project - The Battle of Neighborhoods (Week 4) 1st",
      "provenance": [],
      "collapsed_sections": [],
      "authorship_tag": "ABX9TyPtUcIzXyxt2KsLBdiIN4MZ",
      "include_colab_link": true
    },
    "kernelspec": {
      "name": "python3",
      "display_name": "Python 3"
    }
  },
  "cells": [
    {
      "cell_type": "markdown",
      "metadata": {
        "id": "view-in-github",
        "colab_type": "text"
      },
      "source": [
        "<a href=\"https://colab.research.google.com/github/kevinhincapie/CAPSTONE-PROYECT/blob/master/Capstone_Project_The_Battle_of_Neighborhoods_(Week_4)_1st.ipynb\" target=\"_parent\"><img src=\"https://colab.research.google.com/assets/colab-badge.svg\" alt=\"Open In Colab\"/></a>"
      ]
    },
    {
      "cell_type": "markdown",
      "metadata": {
        "id": "M-4TkQMb-xwb",
        "colab_type": "text"
      },
      "source": [
        "# *** Capstone Project - The Battle of Neighborhoods (Week 4) ***\n",
        "\n",
        "\n",
        "\n",
        "\n",
        "\n",
        "\n"
      ]
    },
    {
      "cell_type": "markdown",
      "metadata": {
        "id": "cjkdhFMZDqGi",
        "colab_type": "text"
      },
      "source": [
        "<a title=\"J. Kenji López-Alt / Public domain\" href=\"https://commons.wikimedia.org/wiki/File:Wursthall_beet_salad.jpg\"><img width=\"258\" alt=\"Wursthall beet salad\" src=\"https://upload.wikimedia.org/wikipedia/commons/thumb/4/48/Wursthall_beet_salad.jpg/512px-Wursthall_beet_salad.jpg\"></a>"
      ]
    },
    {
      "cell_type": "markdown",
      "metadata": {
        "id": "lBbaS1iK_Qt7",
        "colab_type": "text"
      },
      "source": [
        "## INTRODUCTION"
      ]
    },
    {
      "cell_type": "markdown",
      "metadata": {
        "id": "hEjZFtAG_hP7",
        "colab_type": "text"
      },
      "source": [
        "For this project, I will like to know how many vegan restaurants are in the Toronto area. As we see, being vegan is a trend that is growing a lot in popular culture, but most vegan people can't find vegan restaurants. Most of the vegan people have to go great distances to find vegan restaurants to satisfy their needs.\n",
        "This could be an excellent opportunity for investors to invest in neighborhoods where there is a lack of vegan restaurants."
      ]
    },
    {
      "cell_type": "markdown",
      "metadata": {
        "id": "p_0pu_MnCoQK",
        "colab_type": "text"
      },
      "source": [
        "## BUSINESS PROBLEM"
      ]
    },
    {
      "cell_type": "markdown",
      "metadata": {
        "id": "ltKMImuQCxOq",
        "colab_type": "text"
      },
      "source": [
        "As explained before, this could be an excellent opportunity for investors that want to differentiate their product with vegan alternatives with a market that is growing a lot in recent years. \n",
        "First, for investors to put their money in the project, they have to see which neighborhoods Toronto has a lack of vegan restaurants."
      ]
    },
    {
      "cell_type": "markdown",
      "metadata": {
        "id": "7Adut-YrDaH-",
        "colab_type": "text"
      },
      "source": [
        "## DATA"
      ]
    },
    {
      "cell_type": "markdown",
      "metadata": {
        "id": "pvHd1pHqFblp",
        "colab_type": "text"
      },
      "source": [
        "The data that we will use is:\n",
        "*   A list of different neighborhoods in Toronto that we will get the data from Wikipedia.\n",
        "*   We will use the coordinates of each neighborhood in which we will obtain from the Geocoder Package to receive the coordinates of the city.\n",
        "*   Data on the location of different vegan restaurants around the city of Toronto, which we will be using the Foursquare API to retrieve the data."
      ]
    },
    {
      "cell_type": "code",
      "metadata": {
        "id": "HYf9RT8lHW9i",
        "colab_type": "code",
        "colab": {}
      },
      "source": [
        ""
      ],
      "execution_count": 0,
      "outputs": []
    }
  ]
}